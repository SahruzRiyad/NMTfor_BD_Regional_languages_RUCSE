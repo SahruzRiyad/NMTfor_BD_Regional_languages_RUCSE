{
  "cells": [
    {
      "cell_type": "code",
      "execution_count": 6,
      "metadata": {
        "colab": {
          "base_uri": "https://localhost:8080/"
        },
        "id": "D4FlkKs7Y1rk",
        "outputId": "6887a477-ebf2-493f-e45d-1c7ec925d07c"
      },
      "outputs": [
        {
          "output_type": "stream",
          "name": "stdout",
          "text": [
            "Drive already mounted at /content/drive; to attempt to forcibly remount, call drive.mount(\"/content/drive\", force_remount=True).\n"
          ]
        }
      ],
      "source": [
        "from google.colab import drive #connecting google drive with this file\n",
        "drive.mount('/content/drive')"
      ]
    },
    {
      "cell_type": "code",
      "execution_count": 7,
      "metadata": {
        "id": "Xcm_pz-UaVkJ"
      },
      "outputs": [],
      "source": [
        "import pathlib\n",
        "import random\n",
        "import string\n",
        "import re\n",
        "import numpy as np\n",
        "import pandas as pd\n",
        "import tensorflow as tf\n",
        "from tensorflow import keras\n",
        "from tensorflow.keras import layers\n",
        "from tensorflow.keras.layers import TextVectorization"
      ]
    },
    {
      "cell_type": "code",
      "execution_count": 8,
      "metadata": {
        "colab": {
          "base_uri": "https://localhost:8080/"
        },
        "id": "16BZLiQvaox3",
        "outputId": "b8895369-4f1a-410d-8f2a-7e60ffed1463"
      },
      "outputs": [
        {
          "output_type": "stream",
          "name": "stdout",
          "text": [
            "0    তোমার মা তোমার স্কুলের ব্যাপারে আসলেই অনেক চিন...\n",
            "1                                    স্যার গেট খুলুন !\n",
            "2                  এটা ভীষণ ঠাণ্ডা , সাঁতার কাটো রোস !\n",
            "3                      আর কোটটা আমি তাকে দিয়ে দিয়েছি ।\n",
            "4                           আমারা অনেক দেরি হয়ে গেছে ।\n",
            "Name: bangla, dtype: object\n",
            "0     ত মামা ত ইস্কুুল অ  ব্যাপারে বজমান চিন্তিত এল...\n",
            "1                                  স্যার,দরজা আন হুল ।\n",
            "2                                       ইয়ান যদবদে ঈন।\n",
            "3                      আর সিলুম্মু মুই তারে দি এচ্চোং।\n",
            "4                                 মিরে বজমান দিরি উয়ে।\n",
            "Name: chakma, dtype: object\n",
            "8862 8862\n"
          ]
        },
        {
          "output_type": "execute_result",
          "data": {
            "text/plain": [
              "[('তোমার মা তোমার স্কুলের ব্যাপারে আসলেই অনেক চিন্তিত ছিল, বাবা।',\n",
              "  '[start]  ত মামা ত ইস্কুুল অ  ব্যাপারে বজমান চিন্তিত এলহ,  পুত। [end]'),\n",
              " ('স্যার গেট খুলুন !', '[start] স্যার,দরজা আন হুল । [end]'),\n",
              " ('এটা ভীষণ ঠাণ্ডা , সাঁতার কাটো রোস !', '[start] ইয়ান যদবদে ঈন। [end]'),\n",
              " ('আর কোটটা আমি তাকে দিয়ে দিয়েছি ।',\n",
              "  '[start] আর সিলুম্মু মুই তারে দি এচ্চোং। [end]'),\n",
              " ('আমারা অনেক দেরি হয়ে গেছে ।', '[start] মিরে বজমান দিরি উয়ে। [end]')]"
            ]
          },
          "metadata": {},
          "execution_count": 8
        }
      ],
      "source": [
        "filePath = \"/content/drive/MyDrive/Text to Text/bangla-chakma.csv\" # path of the bangla-chakma csv file\n",
        "\n",
        "dataset = pd.read_csv(filePath)\n",
        "\n",
        "print(dataset['bangla'].head())\n",
        "print(dataset['chakma'].head())\n",
        "print(len(dataset['bangla']),len(dataset['chakma']))\n",
        "\n",
        "text_pairs = []\n",
        "\n",
        "for i in range(len(dataset['bangla'])):\n",
        "    text_pairs.append((dataset['bangla'][i],\"[start] \" + dataset['chakma'][i] + \" [end]\")) # adding bangla and chakma sentences on text_pairs list\n",
        "    #[start] abd [end] token added to target sentences to identify sentence's start and end position\n",
        "\n",
        "text_pairs[:5]\n"
      ]
    },
    {
      "cell_type": "code",
      "execution_count": 9,
      "metadata": {
        "colab": {
          "base_uri": "https://localhost:8080/"
        },
        "id": "9KKKWg3zdP45",
        "outputId": "bd40589d-45a1-45f3-ef65-d81415976387"
      },
      "outputs": [
        {
          "output_type": "stream",
          "name": "stdout",
          "text": [
            "8862 total pairs\n",
            "7976 training pairs\n",
            "443 validation pairs\n",
            "443 test pairs\n"
          ]
        }
      ],
      "source": [
        "# spliting train,test and validation pairs\n",
        "random.shuffle(text_pairs)\n",
        "num_val_samples = int(0.05 * len(text_pairs)) # 0.05 means the 5% of data\n",
        "num_train_samples = len(text_pairs) - 2 * num_val_samples\n",
        "train_pairs = text_pairs[:num_train_samples]\n",
        "val_pairs = text_pairs[num_train_samples : num_train_samples + num_val_samples]\n",
        "test_pairs = text_pairs[num_train_samples + num_val_samples :]\n",
        "\n",
        "print(f\"{len(text_pairs)} total pairs\")\n",
        "print(f\"{len(train_pairs)} training pairs\")\n",
        "print(f\"{len(val_pairs)} validation pairs\")\n",
        "print(f\"{len(test_pairs)} test pairs\")"
      ]
    },
    {
      "cell_type": "code",
      "execution_count": 10,
      "metadata": {
        "id": "__yKGNNNdr-7",
        "colab": {
          "base_uri": "https://localhost:8080/"
        },
        "outputId": "61aea8d4-7458-45f8-e320-0c6d6683a5e6"
      },
      "outputs": [
        {
          "output_type": "stream",
          "name": "stdout",
          "text": [
            "['আমাকে এখানে থেকে যেতে হবে ।', 'বাহন ধরে রাখো ।', 'কেউ একজন বলেছিল যে পৃথিবীর শান্তি এখন আমাদের হাতে ।'] ['[start] মর ইত্তুন যা পুরিবুগোই । [end]', '[start] বাহন ধুরি রাগা । [end]', '[start] হন্না যেন হুয়ে যে পিত্তিমির সুখ ইুক্কু আমা আদত [end]']\n"
          ]
        }
      ],
      "source": [
        "# this cell is for text vectorization\n",
        "\n",
        "strip_chars = string.punctuation + \"¿\"\n",
        "strip_chars = strip_chars.replace(\"[\", \"\")\n",
        "strip_chars = strip_chars.replace(\"]\", \"\")\n",
        "\n",
        "vocab_size = 15000\n",
        "sequence_length = 20\n",
        "batch_size = 64\n",
        "\n",
        "\n",
        "def custom_standardization(input_string):\n",
        "    lowercase = tf.strings.lower(input_string)\n",
        "    return tf.strings.regex_replace(lowercase, \"[%s]\" % re.escape(strip_chars), \"\")\n",
        "\n",
        "\n",
        "source_vectorization = TextVectorization(\n",
        "    max_tokens=vocab_size, output_mode=\"int\", output_sequence_length=sequence_length,\n",
        ")\n",
        "target_vectorization = TextVectorization(\n",
        "    max_tokens=vocab_size,\n",
        "    output_mode=\"int\",\n",
        "    output_sequence_length=sequence_length + 1,\n",
        "    standardize=custom_standardization,\n",
        ")\n",
        "\n",
        "train_source_texts = [pair[0] for pair in train_pairs]\n",
        "train_target_texts = [pair[1] for pair in train_pairs]\n",
        "\n",
        "source_vectorization.adapt(train_source_texts)\n",
        "target_vectorization.adapt(train_target_texts)\n",
        "\n",
        "print(train_source_texts[:3],train_target_texts[:3])"
      ]
    },
    {
      "cell_type": "code",
      "execution_count": 11,
      "metadata": {
        "id": "SiPnvEcdeJ8F"
      },
      "outputs": [],
      "source": [
        "\n",
        "def format_dataset(source, target):\n",
        "    source = source_vectorization(source)\n",
        "    target = target_vectorization(target)\n",
        "    return ({\"encoder_inputs\": source, \"decoder_inputs\": target[:, :-1],}, target[:, 1:])\n",
        "\n",
        "\n",
        "def make_dataset(pairs):\n",
        "    source_texts, target_texts = zip(*pairs)\n",
        "    source_texts = list(source_texts)\n",
        "    target_texts = list(target_texts)\n",
        "    dataset = tf.data.Dataset.from_tensor_slices((source_texts, target_texts))\n",
        "    dataset = dataset.batch(batch_size)\n",
        "    dataset = dataset.map(format_dataset)\n",
        "    return dataset.shuffle(2048).prefetch(16).cache()\n",
        "\n",
        "\n",
        "train_ds = make_dataset(train_pairs)\n",
        "val_ds = make_dataset(val_pairs)"
      ]
    },
    {
      "cell_type": "code",
      "execution_count": 12,
      "metadata": {
        "colab": {
          "base_uri": "https://localhost:8080/"
        },
        "id": "oKAqBjyYemxC",
        "outputId": "8113e4ee-a2a2-493a-8a38-61b03644de7d"
      },
      "outputs": [
        {
          "output_type": "stream",
          "name": "stdout",
          "text": [
            "inputs[\"encoder_inputs\"].shape: (64, 20)\n",
            "inputs[\"decoder_inputs\"].shape: (64, 20)\n",
            "targets.shape: (64, 20)\n"
          ]
        }
      ],
      "source": [
        "for inputs, targets in train_ds.take(1):\n",
        "    print(f'inputs[\"encoder_inputs\"].shape: {inputs[\"encoder_inputs\"].shape}')\n",
        "    print(f'inputs[\"decoder_inputs\"].shape: {inputs[\"decoder_inputs\"].shape}')\n",
        "    print(f\"targets.shape: {targets.shape}\")"
      ]
    },
    {
      "cell_type": "code",
      "execution_count": 13,
      "metadata": {
        "id": "ffVaRfereq0S"
      },
      "outputs": [],
      "source": [
        "class TransformerEncoder(layers.Layer):\n",
        "    def __init__(self, embed_dim, dense_dim, num_heads, **kwargs):\n",
        "        super().__init__(**kwargs)\n",
        "        self.embed_dim = embed_dim\n",
        "        self.dense_dim = dense_dim\n",
        "        self.num_heads = num_heads\n",
        "        self.attention = layers.MultiHeadAttention(\n",
        "            num_heads=num_heads, key_dim=embed_dim\n",
        "        )\n",
        "        self.dense_proj = keras.Sequential(\n",
        "            [layers.Dense(dense_dim, activation=\"relu\"), layers.Dense(embed_dim),]\n",
        "        )\n",
        "        self.layernorm_1 = layers.LayerNormalization()\n",
        "        self.layernorm_2 = layers.LayerNormalization()\n",
        "        self.supports_masking = True\n",
        "\n",
        "    def call(self, inputs, mask=None):\n",
        "        if mask is not None:\n",
        "            padding_mask = tf.cast(mask[:, tf.newaxis, :], dtype=\"int32\")\n",
        "        attention_output = self.attention(\n",
        "            query=inputs, value=inputs, key=inputs, attention_mask=padding_mask\n",
        "        )\n",
        "        proj_input = self.layernorm_1(inputs + attention_output)\n",
        "        proj_output = self.dense_proj(proj_input)\n",
        "        return self.layernorm_2(proj_input + proj_output)\n",
        "    def get_config(self):\n",
        "        config = super().get_config()\n",
        "        config.update({\n",
        "            \"embed_dim\": self.embed_dim,\n",
        "            \"dense_dim\": self.dense_dim,\n",
        "            \"num_heads\": self.num_heads,\n",
        "        })\n",
        "        return config\n",
        "\n",
        "\n",
        "class PositionalEmbedding(layers.Layer):\n",
        "    def __init__(self, sequence_length, vocab_size, embed_dim, **kwargs):\n",
        "        super().__init__(**kwargs)\n",
        "        self.token_embeddings = layers.Embedding(\n",
        "            input_dim=vocab_size, output_dim=embed_dim\n",
        "        )\n",
        "        self.position_embeddings = layers.Embedding(\n",
        "            input_dim=sequence_length, output_dim=embed_dim\n",
        "        )\n",
        "        self.sequence_length = sequence_length\n",
        "        self.vocab_size = vocab_size\n",
        "        self.embed_dim = embed_dim\n",
        "\n",
        "    def call(self, inputs):\n",
        "        length = tf.shape(inputs)[-1]\n",
        "        positions = tf.range(start=0, limit=length, delta=1)\n",
        "        embedded_tokens = self.token_embeddings(inputs)\n",
        "        embedded_positions = self.position_embeddings(positions)\n",
        "        return embedded_tokens + embedded_positions\n",
        "\n",
        "    def compute_mask(self, inputs, mask=None):\n",
        "        return tf.math.not_equal(inputs, 0)\n",
        "    def get_config(self):\n",
        "        config = super().get_config()\n",
        "        config.update({\n",
        "            \"sequence_length\": self.sequence_length,\n",
        "            \"vocab_size\": self.vocab_size,\n",
        "            \"embed_dim\": self.embed_dim,\n",
        "        })\n",
        "        return config\n",
        "\n",
        "\n",
        "class TransformerDecoder(layers.Layer):\n",
        "    def __init__(self, embed_dim, latent_dim, num_heads, **kwargs):\n",
        "        super().__init__(**kwargs)\n",
        "        self.embed_dim = embed_dim\n",
        "        self.latent_dim = latent_dim\n",
        "        self.num_heads = num_heads\n",
        "        self.attention_1 = layers.MultiHeadAttention(\n",
        "            num_heads=num_heads, key_dim=embed_dim\n",
        "        )\n",
        "        self.attention_2 = layers.MultiHeadAttention(\n",
        "            num_heads=num_heads, key_dim=embed_dim\n",
        "        )\n",
        "        self.dense_proj = keras.Sequential(\n",
        "            [layers.Dense(latent_dim, activation=\"relu\"), layers.Dense(embed_dim),]\n",
        "        )\n",
        "        self.layernorm_1 = layers.LayerNormalization()\n",
        "        self.layernorm_2 = layers.LayerNormalization()\n",
        "        self.layernorm_3 = layers.LayerNormalization()\n",
        "        self.supports_masking = True\n",
        "\n",
        "    def call(self, inputs, encoder_outputs, mask=None):\n",
        "        causal_mask = self.get_causal_attention_mask(inputs)\n",
        "        if mask is not None:\n",
        "            padding_mask = tf.cast(mask[:, tf.newaxis, :], dtype=\"int32\")\n",
        "            padding_mask = tf.minimum(padding_mask, causal_mask)\n",
        "\n",
        "        attention_output_1 = self.attention_1(\n",
        "            query=inputs, value=inputs, key=inputs, attention_mask=causal_mask\n",
        "        )\n",
        "        out_1 = self.layernorm_1(inputs + attention_output_1)\n",
        "\n",
        "        attention_output_2 = self.attention_2(\n",
        "            query=out_1,\n",
        "            value=encoder_outputs,\n",
        "            key=encoder_outputs,\n",
        "            attention_mask=padding_mask,\n",
        "        )\n",
        "        out_2 = self.layernorm_2(out_1 + attention_output_2)\n",
        "\n",
        "        proj_output = self.dense_proj(out_2)\n",
        "        return self.layernorm_3(out_2 + proj_output)\n",
        "\n",
        "    def get_causal_attention_mask(self, inputs):\n",
        "        input_shape = tf.shape(inputs)\n",
        "        batch_size, sequence_length = input_shape[0], input_shape[1]\n",
        "        i = tf.range(sequence_length)[:, tf.newaxis]\n",
        "        j = tf.range(sequence_length)\n",
        "        mask = tf.cast(i >= j, dtype=\"int32\")\n",
        "        mask = tf.reshape(mask, (1, input_shape[1], input_shape[1]))\n",
        "        mult = tf.concat(\n",
        "            [tf.expand_dims(batch_size, -1), tf.constant([1, 1], dtype=tf.int32)],\n",
        "            axis=0,\n",
        "        )\n",
        "        return tf.tile(mask, mult)\n",
        "    def get_config(self):\n",
        "        config = super().get_config()\n",
        "        config.update({\n",
        "            \"embed_dim\": self.embed_dim,\n",
        "            \"latent_dim\": self.latent_dim,\n",
        "            \"num_heads\": self.num_heads,\n",
        "        })\n",
        "        return config\n"
      ]
    },
    {
      "cell_type": "code",
      "execution_count": 14,
      "metadata": {
        "id": "PuJ-WKzDewCE"
      },
      "outputs": [],
      "source": [
        "embed_dim = 256\n",
        "latent_dim = 2048\n",
        "num_heads = 8\n",
        "\n",
        "encoder_inputs = keras.Input(shape=(None,), dtype=\"int64\", name=\"encoder_inputs\")\n",
        "x = PositionalEmbedding(sequence_length, vocab_size, embed_dim)(encoder_inputs)\n",
        "encoder_outputs = TransformerEncoder(embed_dim, latent_dim, num_heads)(x)\n",
        "encoder = keras.Model(encoder_inputs, encoder_outputs)\n",
        "\n",
        "decoder_inputs = keras.Input(shape=(None,), dtype=\"int64\", name=\"decoder_inputs\")\n",
        "encoded_seq_inputs = keras.Input(shape=(None, embed_dim), name=\"decoder_state_inputs\")\n",
        "x = PositionalEmbedding(sequence_length, vocab_size, embed_dim)(decoder_inputs)\n",
        "x = TransformerDecoder(embed_dim, latent_dim, num_heads)(x, encoded_seq_inputs)\n",
        "x = layers.Dropout(0.5)(x)\n",
        "decoder_outputs = layers.Dense(vocab_size, activation=\"softmax\")(x)\n",
        "decoder = keras.Model([decoder_inputs, encoded_seq_inputs], decoder_outputs)\n",
        "\n",
        "decoder_outputs = decoder([decoder_inputs, encoder_outputs])\n",
        "transformer = keras.Model(\n",
        "    [encoder_inputs, decoder_inputs], decoder_outputs, name=\"transformer\"\n",
        ")"
      ]
    },
    {
      "cell_type": "code",
      "source": [
        "en_bn_model_path = \"/content/drive/MyDrive/Text to Text/saved model/en_to_bn.h5\"\n",
        "transformer.load_weights(en_bn_model_path)"
      ],
      "metadata": {
        "id": "PUA7K7HOS1c6"
      },
      "execution_count": 15,
      "outputs": []
    },
    {
      "cell_type": "code",
      "source": [
        "transformer.summary()"
      ],
      "metadata": {
        "colab": {
          "base_uri": "https://localhost:8080/"
        },
        "id": "Y5dcqWg_TDkN",
        "outputId": "2873c07b-375c-4b0d-9cca-6ab7cc9a7c03"
      },
      "execution_count": 16,
      "outputs": [
        {
          "output_type": "stream",
          "name": "stdout",
          "text": [
            "Model: \"transformer\"\n",
            "__________________________________________________________________________________________________\n",
            " Layer (type)                   Output Shape         Param #     Connected to                     \n",
            "==================================================================================================\n",
            " encoder_inputs (InputLayer)    [(None, None)]       0           []                               \n",
            "                                                                                                  \n",
            " positional_embedding_4 (Positi  (None, None, 256)   3845120     ['encoder_inputs[0][0]']         \n",
            " onalEmbedding)                                                                                   \n",
            "                                                                                                  \n",
            " decoder_inputs (InputLayer)    [(None, None)]       0           []                               \n",
            "                                                                                                  \n",
            " transformer_encoder_2 (Transfo  (None, None, 256)   3155456     ['positional_embedding_4[0][0]'] \n",
            " rmerEncoder)                                                                                     \n",
            "                                                                                                  \n",
            " model_5 (Functional)           (None, None, 15000)  12959640    ['decoder_inputs[0][0]',         \n",
            "                                                                  'transformer_encoder_2[0][0]']  \n",
            "                                                                                                  \n",
            "==================================================================================================\n",
            "Total params: 19,960,216\n",
            "Trainable params: 19,960,216\n",
            "Non-trainable params: 0\n",
            "__________________________________________________________________________________________________\n"
          ]
        }
      ]
    },
    {
      "cell_type": "code",
      "source": [
        "# Freeze all layers in the encoder model except the linear layer\n",
        "for layer in encoder.layers:\n",
        "    if not isinstance(layer, layers.Dense):\n",
        "        layer.trainable = False\n",
        "\n",
        "# Freeze all layers in the decoder model except the linear layer\n",
        "for layer in decoder.layers:\n",
        "    if not isinstance(layer, layers.Dense):\n",
        "        layer.trainable = False\n",
        "\n",
        "# Create the final transformer model\n",
        "decoder_outputs = decoder([decoder_inputs, encoder_outputs])\n",
        "transformer = keras.Model(\n",
        "    [encoder_inputs, decoder_inputs], decoder_outputs, name=\"transformer\"\n",
        ")"
      ],
      "metadata": {
        "id": "gD0usNhaUMCQ"
      },
      "execution_count": 17,
      "outputs": []
    },
    {
      "cell_type": "code",
      "source": [
        "transformer.summary()"
      ],
      "metadata": {
        "colab": {
          "base_uri": "https://localhost:8080/"
        },
        "id": "GNRO-YlJUtMJ",
        "outputId": "73644bce-3595-421d-f035-ebfc38cc7e22"
      },
      "execution_count": 19,
      "outputs": [
        {
          "output_type": "stream",
          "name": "stdout",
          "text": [
            "Model: \"transformer\"\n",
            "__________________________________________________________________________________________________\n",
            " Layer (type)                   Output Shape         Param #     Connected to                     \n",
            "==================================================================================================\n",
            " encoder_inputs (InputLayer)    [(None, None)]       0           []                               \n",
            "                                                                                                  \n",
            " positional_embedding_4 (Positi  (None, None, 256)   3845120     ['encoder_inputs[0][0]']         \n",
            " onalEmbedding)                                                                                   \n",
            "                                                                                                  \n",
            " decoder_inputs (InputLayer)    [(None, None)]       0           []                               \n",
            "                                                                                                  \n",
            " transformer_encoder_2 (Transfo  (None, None, 256)   3155456     ['positional_embedding_4[0][0]'] \n",
            " rmerEncoder)                                                                                     \n",
            "                                                                                                  \n",
            " model_5 (Functional)           (None, None, 15000)  12959640    ['decoder_inputs[0][0]',         \n",
            "                                                                  'transformer_encoder_2[0][0]']  \n",
            "                                                                                                  \n",
            "==================================================================================================\n",
            "Total params: 19,960,216\n",
            "Trainable params: 3,855,000\n",
            "Non-trainable params: 16,105,216\n",
            "__________________________________________________________________________________________________\n"
          ]
        }
      ]
    },
    {
      "cell_type": "code",
      "execution_count": null,
      "metadata": {
        "id": "VhZkpb5qe3FX"
      },
      "outputs": [],
      "source": [
        "epochs = 30\n",
        "\n",
        "transformer.compile(\n",
        "    \"rmsprop\", loss=\"sparse_categorical_crossentropy\", metrics=[\"accuracy\"]\n",
        ")\n",
        "transformer.fit(train_ds, epochs=epochs, validation_data=val_ds)"
      ]
    },
    {
      "cell_type": "code",
      "execution_count": 20,
      "metadata": {
        "id": "_9kOS6-9fWCL"
      },
      "outputs": [],
      "source": [
        "target_vocab = target_vectorization.get_vocabulary()\n",
        "target_index_lookup = dict(zip(range(len(target_vocab)), target_vocab))\n",
        "max_decoded_sentence_length = 20\n",
        "\n",
        "\n",
        "def decode_sequence(input_sentence):\n",
        "    tokenized_input_sentence = source_vectorization([input_sentence])\n",
        "    decoded_sentence = \"[start]\"\n",
        "    for i in range(max_decoded_sentence_length):\n",
        "        tokenized_target_sentence = target_vectorization([decoded_sentence])[:, :-1]\n",
        "        predictions = transformer([tokenized_input_sentence, tokenized_target_sentence])\n",
        "\n",
        "        sampled_token_index = np.argmax(predictions[0, i, :])\n",
        "        sampled_token = target_index_lookup[sampled_token_index]\n",
        "        decoded_sentence += \" \" + sampled_token\n",
        "\n",
        "        if sampled_token == \"[end]\":\n",
        "            break\n",
        "    return decoded_sentence\n",
        "\n",
        "\n",
        "predictions = []\n",
        "references = [[]]\n",
        "test_source_texts = [pair[0] for pair in test_pairs]\n",
        "test_target_texts = [pair[1] for pair in test_pairs]\n",
        "\n",
        "for _ in range(len(test_target_texts)):\n",
        "    i = np.random.randint(0,len(test_source_texts)-1)\n",
        "    input_sentence = test_source_texts[i]\n",
        "    refs = test_target_texts[i]\n",
        "    translated = decode_sequence(input_sentence)\n",
        "\n",
        "    translated = translated.replace(\"[start]\",\"\")\n",
        "    translated = translated.replace(\"[end]\",\"\")\n",
        "\n",
        "    refs = refs.replace(\"[start]\",\"\")\n",
        "    refs = refs.replace(\"[end]\",\"\")\n",
        "    refs = [refs]\n",
        "\n",
        "    references.append(refs)\n",
        "    predictions.append(translated)"
      ]
    },
    {
      "cell_type": "code",
      "execution_count": 21,
      "metadata": {
        "colab": {
          "base_uri": "https://localhost:8080/"
        },
        "id": "b51LJXIViFYp",
        "outputId": "90163159-cf4e-404d-d8ac-dfd8cf110d52"
      },
      "outputs": [
        {
          "output_type": "stream",
          "name": "stdout",
          "text": [
            "443 443\n"
          ]
        }
      ],
      "source": [
        "references.pop(0)\n",
        "print(len(references) , len(predictions))"
      ]
    },
    {
      "cell_type": "code",
      "execution_count": 22,
      "metadata": {
        "colab": {
          "base_uri": "https://localhost:8080/"
        },
        "id": "vNRpF-vVksF-",
        "outputId": "f7eabc14-e7ee-42d6-83da-200b28b4b176"
      },
      "outputs": [
        {
          "output_type": "stream",
          "name": "stdout",
          "text": [
            "input:জানালা দিয়ে দেখলেও এটা দেখা যায় । \toutput: মুই তরে \n",
            "input:আর সে আমাকে শিখিয়েছে কিভাবে ড্যান্স করতে হয় । \toutput: মুই তরে \n",
            "input:আর কয়েক ঘণ্টা পেরুলেই । আর কোনো আশা ছিলো না। \toutput: মুই তরে \n",
            "input:কেমন লাগছে তোমার ? \toutput: মুই তরে \n",
            "input:সত্যি সত্যি ঘুমাচ্ছিলাম? \toutput: মুই তরে \n",
            "input:মানুষেরা। তাঁরা কিছুতেই থামবে না। \toutput: মুই তরে \n",
            "input:আসুন । \toutput: মুই তরে \n",
            "input:পি। \toutput: মুই তরে \n",
            "input:জিউস আরো একটা সুযোগ পেয়ে গেছে ! এটমের পেটের উপর তান্ডব চালানোর জন্য! না! \toutput: মুই তরে \n",
            "input:হোম ইকোনমিক্স ক্লাসে সবসময় তাদের সাথে বসি। \toutput: মুই তরে \n"
          ]
        }
      ],
      "source": [
        "for i in range(10):\n",
        "    input = test_source_texts[i]\n",
        "    output = decode_sequence(input).replace(\"[start]\",\"\")\n",
        "    output = output.replace(\"[end]\",\"\")\n",
        "    print(\"input:\" + input,\"\\toutput:\" + output)"
      ]
    },
    {
      "cell_type": "code",
      "execution_count": 23,
      "metadata": {
        "colab": {
          "base_uri": "https://localhost:8080/"
        },
        "id": "neM-r56Trs14",
        "outputId": "ed0bc231-85f5-4b8b-b9f6-5e86b8469558"
      },
      "outputs": [
        {
          "output_type": "stream",
          "name": "stdout",
          "text": [
            "input:কোথায় চলে গিয়েছিলে? \toutput: মুই তরে \n"
          ]
        }
      ],
      "source": [
        "input = \"কোথায় চলে গিয়েছিলে?\"\n",
        "output = decode_sequence(input).replace(\"[start]\",\"\")\n",
        "output = output.replace(\"[end]\",\"\")\n",
        "print(\"input:\" + input,\"\\toutput:\" + output)"
      ]
    },
    {
      "cell_type": "code",
      "execution_count": null,
      "metadata": {
        "colab": {
          "base_uri": "https://localhost:8080/"
        },
        "id": "zZIIwne0n7Z7",
        "outputId": "2817a2f9-5e71-4bd1-a46b-0a80caefb4e6"
      },
      "outputs": [
        {
          "output_type": "execute_result",
          "data": {
            "text/plain": [
              "443"
            ]
          },
          "metadata": {},
          "execution_count": 15
        }
      ],
      "source": [
        "from itertools import chain\n",
        "f = open(\"/content/result_chakma_data.txt\",\"w\")\n",
        "cnt = 1\n",
        "\n",
        "one_dim_ref = list(chain.from_iterable(references))\n",
        "for i in range(len(predictions)):\n",
        "    f.write(\"ref{}:\".format(cnt) + one_dim_ref[i] + \"\\n\")\n",
        "    f.write(\"pred{}:\".format(cnt) + predictions[i] + \"\\n\")\n",
        "    cnt += 1\n",
        "\n",
        "len(predictions)"
      ]
    },
    {
      "cell_type": "code",
      "execution_count": null,
      "metadata": {
        "id": "O3K-LOLiiNp5"
      },
      "outputs": [],
      "source": [
        "!pip install evaluate bert_score"
      ]
    },
    {
      "cell_type": "code",
      "execution_count": null,
      "metadata": {
        "id": "qhq4DvGpiiVM"
      },
      "outputs": [],
      "source": [
        "import evaluate\n",
        "\n",
        "bleu = evaluate.load('bleu')\n",
        "\n",
        "print(bleu.compute(predictions=predictions , references=references))"
      ]
    },
    {
      "cell_type": "code",
      "execution_count": null,
      "metadata": {
        "id": "U1sbT8UrioOA"
      },
      "outputs": [],
      "source": [
        "flatten_list = [j for references in references for j in references]\n",
        "bertscore = evaluate.load(\"bertscore\")\n",
        "results = bertscore.compute(predictions=predictions, references=flatten_list, model_type=\"distilbert-base-uncased\")\n",
        "\n",
        "average_f1 = sum(results['f1']) / len(results['f1'])\n",
        "print(\"Average F1-score:\", average_f1)"
      ]
    },
    {
      "cell_type": "code",
      "execution_count": null,
      "metadata": {
        "id": "ao84f_3nipXr"
      },
      "outputs": [],
      "source": [
        "transformer.save_weights(\"/content/bn_to_chk.h5\")"
      ]
    },
    {
      "cell_type": "code",
      "execution_count": null,
      "metadata": {
        "id": "WRi0J8Zhwz2c",
        "colab": {
          "base_uri": "https://localhost:8080/"
        },
        "outputId": "bb9a18bd-5a2d-4a57-dc6c-21b691bc3176"
      },
      "outputs": [
        {
          "output_type": "stream",
          "name": "stdout",
          "text": [
            "7976 7976\n"
          ]
        }
      ],
      "source": [
        "f1 = open(\"/content/train_bangla_data.txt\",\"w\")\n",
        "f2 = open(\"/content/train_chakma_data.txt\",\"w\")\n",
        "\n",
        "for i in range(len(train_source_texts)):\n",
        "    f1.write(train_source_texts[i] + \"\\n\")\n",
        "    f2.write(train_target_texts[i] + \"\\n\")\n",
        "\n",
        "print(len(train_source_texts),len(train_target_texts))"
      ]
    },
    {
      "cell_type": "code",
      "source": [
        "print(len(flatten_list),len(references))"
      ],
      "metadata": {
        "colab": {
          "base_uri": "https://localhost:8080/"
        },
        "id": "4nYFKY8aV0VN",
        "outputId": "8f6d2027-a8d1-468e-a562-71e216e57fc4"
      },
      "execution_count": null,
      "outputs": [
        {
          "output_type": "stream",
          "name": "stdout",
          "text": [
            "443 443\n"
          ]
        }
      ]
    }
  ],
  "metadata": {
    "accelerator": "GPU",
    "colab": {
      "provenance": [],
      "gpuType": "T4"
    },
    "kernelspec": {
      "display_name": "Python 3",
      "name": "python3"
    },
    "language_info": {
      "name": "python"
    }
  },
  "nbformat": 4,
  "nbformat_minor": 0
}