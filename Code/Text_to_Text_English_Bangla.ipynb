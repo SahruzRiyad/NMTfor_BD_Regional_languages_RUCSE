{
  "cells": [
    {
      "cell_type": "code",
      "execution_count": 1,
      "metadata": {
        "colab": {
          "base_uri": "https://localhost:8080/"
        },
        "id": "D4FlkKs7Y1rk",
        "outputId": "4c752473-6f9c-4414-dae6-1adda36a8461"
      },
      "outputs": [
        {
          "output_type": "stream",
          "name": "stdout",
          "text": [
            "Mounted at /content/drive\n"
          ]
        }
      ],
      "source": [
        "from google.colab import drive #connecting google drive with this file\n",
        "drive.mount('/content/drive')"
      ]
    },
    {
      "cell_type": "code",
      "execution_count": 2,
      "metadata": {
        "id": "Xcm_pz-UaVkJ"
      },
      "outputs": [],
      "source": [
        "import pathlib\n",
        "import random\n",
        "import string\n",
        "import re\n",
        "import numpy as np\n",
        "import pandas as pd\n",
        "import tensorflow as tf\n",
        "from tensorflow import keras\n",
        "from tensorflow.keras import layers\n",
        "from tensorflow.keras.layers import TextVectorization"
      ]
    },
    {
      "cell_type": "code",
      "execution_count": 3,
      "metadata": {
        "colab": {
          "base_uri": "https://localhost:8080/"
        },
        "id": "16BZLiQvaox3",
        "outputId": "ce58a9f8-f996-47bd-da35-b10d7f5f987f"
      },
      "outputs": [
        {
          "output_type": "execute_result",
          "data": {
            "text/plain": [
              "[(\"I think it's highly unlikely that Tom will be allowed to keep the gold that he found.\",\n",
              "  '[start] আমার মনে হয় টম যে সোনা পেয়েছে সেটা তার কাছে রাখতে দেওয়া হবে এমন সম্ভাবনা খুব কম। [end]'),\n",
              " (\"Tom told Mary that he was going to kill himself, but he didn't have the courage to do it.\",\n",
              "  '[start] টম মেরিকে বললো যে ও নিজেকে হত্যা করতে চলেছিলো, কিন্ত তা করার মতো সাহস ছিলো না। [end]'),\n",
              " (\"Tom's an irritating person to work with because he'll never admit it when he's made a mistake.\",\n",
              "  '[start] টমের সঙ্গে কাজ করা খুব বিরক্তিকর কারণ ও কখনই মেনে নেয় না যে ও ভুল করেছে। [end]'),\n",
              " (\"I thought doing this would be easy, but we've been working all day and we're still not finished.\",\n",
              "  '[start] আমি ভেবেছিলাম এটা করা সহজ হবে, কিন্তু আমরা সারাদিন ধরে কাজ করেছি আর এখনো শেষ করে উঠতে পারিনি। [end]'),\n",
              " ('January, February, March, April, May, June, July, August, September, October, November and December are the twelve months of the year.',\n",
              "  '[start] বছরের বারোটা মাস হলো জানুয়ারি, ফেব্রুয়ারি, মার্চ, এপ্রিল, মে, জুন জুলাই, আগস্ট, সেপ্টেম্বর, অক্টোবর, নভেম্বর আর ডিসেম্বর। [end]')]"
            ]
          },
          "metadata": {},
          "execution_count": 3
        }
      ],
      "source": [
        "filePath = \"/content/drive/MyDrive/Speech Conversion/ben2.txt\" # path of the english-bangla file\n",
        "\n",
        "text_pairs = []\n",
        "\n",
        "for line in open(filePath):\n",
        "    source, target = line.rstrip().split(\"\\t\")\n",
        "    target = \"[start] \" + target + \" [end]\"\n",
        "    text_pairs.append((source, target))\n",
        "\n",
        "text_pairs[-5:]\n"
      ]
    },
    {
      "cell_type": "code",
      "execution_count": 4,
      "metadata": {
        "colab": {
          "base_uri": "https://localhost:8080/"
        },
        "id": "9KKKWg3zdP45",
        "outputId": "117840e0-582d-41c9-f1bb-28fef11d08a4"
      },
      "outputs": [
        {
          "output_type": "stream",
          "name": "stdout",
          "text": [
            "4619 total pairs\n",
            "4159 training pairs\n",
            "230 validation pairs\n",
            "230 test pairs\n"
          ]
        }
      ],
      "source": [
        "# spliting train,test and validation pairs\n",
        "random.shuffle(text_pairs)\n",
        "num_val_samples = int(0.05 * len(text_pairs)) # 0.05 means the 5% of data\n",
        "num_train_samples = len(text_pairs) - 2 * num_val_samples\n",
        "train_pairs = text_pairs[:num_train_samples]\n",
        "val_pairs = text_pairs[num_train_samples : num_train_samples + num_val_samples]\n",
        "test_pairs = text_pairs[num_train_samples + num_val_samples :]\n",
        "\n",
        "print(f\"{len(text_pairs)} total pairs\")\n",
        "print(f\"{len(train_pairs)} training pairs\")\n",
        "print(f\"{len(val_pairs)} validation pairs\")\n",
        "print(f\"{len(test_pairs)} test pairs\")"
      ]
    },
    {
      "cell_type": "code",
      "execution_count": 5,
      "metadata": {
        "id": "__yKGNNNdr-7",
        "colab": {
          "base_uri": "https://localhost:8080/"
        },
        "outputId": "036ef301-781b-46fb-a421-a363d81a95e4"
      },
      "outputs": [
        {
          "output_type": "stream",
          "name": "stdout",
          "text": [
            "['I have class tomorrow.', \"I'd like you to talk to Tom.\", 'Tom is afraid of the dark.'] ['[start] আমার কাল ক্লাস আছে। [end]', '[start] আমার ইচ্ছা যে তুই টমের সঙ্গে কথা বলিস। [end]', '[start] টম অন্ধকারকে ভয় পায়। [end]']\n"
          ]
        }
      ],
      "source": [
        "# this cell is for text vectorization\n",
        "\n",
        "strip_chars = string.punctuation + \"¿\"\n",
        "strip_chars = strip_chars.replace(\"[\", \"\")\n",
        "strip_chars = strip_chars.replace(\"]\", \"\")\n",
        "\n",
        "vocab_size = 15000\n",
        "sequence_length = 20\n",
        "batch_size = 64\n",
        "\n",
        "\n",
        "def custom_standardization(input_string):\n",
        "    lowercase = tf.strings.lower(input_string)\n",
        "    return tf.strings.regex_replace(lowercase, \"[%s]\" % re.escape(strip_chars), \"\")\n",
        "\n",
        "\n",
        "source_vectorization = TextVectorization(\n",
        "    max_tokens=vocab_size, output_mode=\"int\", output_sequence_length=sequence_length,\n",
        ")\n",
        "target_vectorization = TextVectorization(\n",
        "    max_tokens=vocab_size,\n",
        "    output_mode=\"int\",\n",
        "    output_sequence_length=sequence_length + 1,\n",
        "    standardize=custom_standardization,\n",
        ")\n",
        "\n",
        "train_source_texts = [pair[0] for pair in train_pairs]\n",
        "train_target_texts = [pair[1] for pair in train_pairs]\n",
        "\n",
        "source_vectorization.adapt(train_source_texts)\n",
        "target_vectorization.adapt(train_target_texts)\n",
        "\n",
        "print(train_source_texts[:3],train_target_texts[:3])"
      ]
    },
    {
      "cell_type": "code",
      "execution_count": 6,
      "metadata": {
        "id": "SiPnvEcdeJ8F"
      },
      "outputs": [],
      "source": [
        "\n",
        "def format_dataset(source, target):\n",
        "    source = source_vectorization(source)\n",
        "    target = target_vectorization(target)\n",
        "    return ({\"encoder_inputs\": source, \"decoder_inputs\": target[:, :-1],}, target[:, 1:])\n",
        "\n",
        "\n",
        "def make_dataset(pairs):\n",
        "    source_texts, target_texts = zip(*pairs)\n",
        "    source_texts = list(source_texts)\n",
        "    target_texts = list(target_texts)\n",
        "    dataset = tf.data.Dataset.from_tensor_slices((source_texts, target_texts))\n",
        "    dataset = dataset.batch(batch_size)\n",
        "    dataset = dataset.map(format_dataset)\n",
        "    return dataset.shuffle(2048).prefetch(16).cache()\n",
        "\n",
        "\n",
        "train_ds = make_dataset(train_pairs)\n",
        "val_ds = make_dataset(val_pairs)"
      ]
    },
    {
      "cell_type": "code",
      "execution_count": 7,
      "metadata": {
        "colab": {
          "base_uri": "https://localhost:8080/"
        },
        "id": "oKAqBjyYemxC",
        "outputId": "0d24af00-edc7-4f85-ac86-49bc1572e488"
      },
      "outputs": [
        {
          "output_type": "stream",
          "name": "stdout",
          "text": [
            "inputs[\"encoder_inputs\"].shape: (64, 20)\n",
            "inputs[\"decoder_inputs\"].shape: (64, 20)\n",
            "targets.shape: (64, 20)\n"
          ]
        }
      ],
      "source": [
        "for inputs, targets in train_ds.take(1):\n",
        "    print(f'inputs[\"encoder_inputs\"].shape: {inputs[\"encoder_inputs\"].shape}')\n",
        "    print(f'inputs[\"decoder_inputs\"].shape: {inputs[\"decoder_inputs\"].shape}')\n",
        "    print(f\"targets.shape: {targets.shape}\")"
      ]
    },
    {
      "cell_type": "code",
      "execution_count": 8,
      "metadata": {
        "id": "ffVaRfereq0S"
      },
      "outputs": [],
      "source": [
        "class TransformerEncoder(layers.Layer):\n",
        "    def __init__(self, embed_dim, dense_dim, num_heads, **kwargs):\n",
        "        super().__init__(**kwargs)\n",
        "        self.embed_dim = embed_dim\n",
        "        self.dense_dim = dense_dim\n",
        "        self.num_heads = num_heads\n",
        "        self.attention = layers.MultiHeadAttention(\n",
        "            num_heads=num_heads, key_dim=embed_dim\n",
        "        )\n",
        "        self.dense_proj = keras.Sequential(\n",
        "            [layers.Dense(dense_dim, activation=\"relu\"), layers.Dense(embed_dim),]\n",
        "        )\n",
        "        self.layernorm_1 = layers.LayerNormalization()\n",
        "        self.layernorm_2 = layers.LayerNormalization()\n",
        "        self.supports_masking = True\n",
        "\n",
        "    def call(self, inputs, mask=None):\n",
        "        if mask is not None:\n",
        "            padding_mask = tf.cast(mask[:, tf.newaxis, :], dtype=\"int32\")\n",
        "        attention_output = self.attention(\n",
        "            query=inputs, value=inputs, key=inputs, attention_mask=padding_mask\n",
        "        )\n",
        "        proj_input = self.layernorm_1(inputs + attention_output)\n",
        "        proj_output = self.dense_proj(proj_input)\n",
        "        return self.layernorm_2(proj_input + proj_output)\n",
        "    def get_config(self):\n",
        "        config = super().get_config()\n",
        "        config.update({\n",
        "            \"embed_dim\": self.embed_dim,\n",
        "            \"dense_dim\": self.dense_dim,\n",
        "            \"num_heads\": self.num_heads,\n",
        "        })\n",
        "        return config\n",
        "\n",
        "\n",
        "class PositionalEmbedding(layers.Layer):\n",
        "    def __init__(self, sequence_length, vocab_size, embed_dim, **kwargs):\n",
        "        super().__init__(**kwargs)\n",
        "        self.token_embeddings = layers.Embedding(\n",
        "            input_dim=vocab_size, output_dim=embed_dim\n",
        "        )\n",
        "        self.position_embeddings = layers.Embedding(\n",
        "            input_dim=sequence_length, output_dim=embed_dim\n",
        "        )\n",
        "        self.sequence_length = sequence_length\n",
        "        self.vocab_size = vocab_size\n",
        "        self.embed_dim = embed_dim\n",
        "\n",
        "    def call(self, inputs):\n",
        "        length = tf.shape(inputs)[-1]\n",
        "        positions = tf.range(start=0, limit=length, delta=1)\n",
        "        embedded_tokens = self.token_embeddings(inputs)\n",
        "        embedded_positions = self.position_embeddings(positions)\n",
        "        return embedded_tokens + embedded_positions\n",
        "\n",
        "    def compute_mask(self, inputs, mask=None):\n",
        "        return tf.math.not_equal(inputs, 0)\n",
        "    def get_config(self):\n",
        "        config = super().get_config()\n",
        "        config.update({\n",
        "            \"sequence_length\": self.sequence_length,\n",
        "            \"vocab_size\": self.vocab_size,\n",
        "            \"embed_dim\": self.embed_dim,\n",
        "        })\n",
        "        return config\n",
        "\n",
        "\n",
        "class TransformerDecoder(layers.Layer):\n",
        "    def __init__(self, embed_dim, latent_dim, num_heads, **kwargs):\n",
        "        super().__init__(**kwargs)\n",
        "        self.embed_dim = embed_dim\n",
        "        self.latent_dim = latent_dim\n",
        "        self.num_heads = num_heads\n",
        "        self.attention_1 = layers.MultiHeadAttention(\n",
        "            num_heads=num_heads, key_dim=embed_dim\n",
        "        )\n",
        "        self.attention_2 = layers.MultiHeadAttention(\n",
        "            num_heads=num_heads, key_dim=embed_dim\n",
        "        )\n",
        "        self.dense_proj = keras.Sequential(\n",
        "            [layers.Dense(latent_dim, activation=\"relu\"), layers.Dense(embed_dim),]\n",
        "        )\n",
        "        self.layernorm_1 = layers.LayerNormalization()\n",
        "        self.layernorm_2 = layers.LayerNormalization()\n",
        "        self.layernorm_3 = layers.LayerNormalization()\n",
        "        self.supports_masking = True\n",
        "\n",
        "    def call(self, inputs, encoder_outputs, mask=None):\n",
        "        causal_mask = self.get_causal_attention_mask(inputs)\n",
        "        if mask is not None:\n",
        "            padding_mask = tf.cast(mask[:, tf.newaxis, :], dtype=\"int32\")\n",
        "            padding_mask = tf.minimum(padding_mask, causal_mask)\n",
        "\n",
        "        attention_output_1 = self.attention_1(\n",
        "            query=inputs, value=inputs, key=inputs, attention_mask=causal_mask\n",
        "        )\n",
        "        out_1 = self.layernorm_1(inputs + attention_output_1)\n",
        "\n",
        "        attention_output_2 = self.attention_2(\n",
        "            query=out_1,\n",
        "            value=encoder_outputs,\n",
        "            key=encoder_outputs,\n",
        "            attention_mask=padding_mask,\n",
        "        )\n",
        "        out_2 = self.layernorm_2(out_1 + attention_output_2)\n",
        "\n",
        "        proj_output = self.dense_proj(out_2)\n",
        "        return self.layernorm_3(out_2 + proj_output)\n",
        "\n",
        "    def get_causal_attention_mask(self, inputs):\n",
        "        input_shape = tf.shape(inputs)\n",
        "        batch_size, sequence_length = input_shape[0], input_shape[1]\n",
        "        i = tf.range(sequence_length)[:, tf.newaxis]\n",
        "        j = tf.range(sequence_length)\n",
        "        mask = tf.cast(i >= j, dtype=\"int32\")\n",
        "        mask = tf.reshape(mask, (1, input_shape[1], input_shape[1]))\n",
        "        mult = tf.concat(\n",
        "            [tf.expand_dims(batch_size, -1), tf.constant([1, 1], dtype=tf.int32)],\n",
        "            axis=0,\n",
        "        )\n",
        "        return tf.tile(mask, mult)\n",
        "    def get_config(self):\n",
        "        config = super().get_config()\n",
        "        config.update({\n",
        "            \"embed_dim\": self.embed_dim,\n",
        "            \"latent_dim\": self.latent_dim,\n",
        "            \"num_heads\": self.num_heads,\n",
        "        })\n",
        "        return config\n"
      ]
    },
    {
      "cell_type": "code",
      "execution_count": 11,
      "metadata": {
        "id": "PuJ-WKzDewCE"
      },
      "outputs": [],
      "source": [
        "embed_dim = 256\n",
        "latent_dim = 2048\n",
        "num_heads = 8\n",
        "\n",
        "encoder_inputs = keras.Input(shape=(None,), dtype=\"int64\", name=\"encoder_inputs\")\n",
        "x = PositionalEmbedding(sequence_length, vocab_size, embed_dim)(encoder_inputs)\n",
        "encoder_outputs = TransformerEncoder(embed_dim, latent_dim, num_heads)(x)\n",
        "encoder = keras.Model(encoder_inputs, encoder_outputs)\n",
        "\n",
        "decoder_inputs = keras.Input(shape=(None,), dtype=\"int64\", name=\"decoder_inputs\")\n",
        "encoded_seq_inputs = keras.Input(shape=(None, embed_dim), name=\"decoder_state_inputs\")\n",
        "x = PositionalEmbedding(sequence_length, vocab_size, embed_dim)(decoder_inputs)\n",
        "x = TransformerDecoder(embed_dim, latent_dim, num_heads)(x, encoded_seq_inputs)\n",
        "x = layers.Dropout(0.5)(x)\n",
        "decoder_outputs = layers.Dense(vocab_size, activation=\"softmax\")(x)\n",
        "decoder = keras.Model([decoder_inputs, encoded_seq_inputs], decoder_outputs)\n",
        "\n",
        "decoder_outputs = decoder([decoder_inputs, encoder_outputs])\n",
        "transformer = keras.Model(\n",
        "    [encoder_inputs, decoder_inputs], decoder_outputs, name=\"transformer\"\n",
        ")"
      ]
    },
    {
      "cell_type": "code",
      "execution_count": 10,
      "metadata": {
        "id": "VhZkpb5qe3FX",
        "colab": {
          "base_uri": "https://localhost:8080/"
        },
        "outputId": "9b050963-e4f5-4231-daed-4391ff0a9922"
      },
      "outputs": [
        {
          "output_type": "stream",
          "name": "stdout",
          "text": [
            "Epoch 1/30\n",
            "65/65 [==============================] - 28s 241ms/step - loss: 5.7232 - accuracy: 0.3528 - val_loss: 4.7951 - val_accuracy: 0.3847\n",
            "Epoch 2/30\n",
            "65/65 [==============================] - 4s 60ms/step - loss: 4.5010 - accuracy: 0.3962 - val_loss: 4.3818 - val_accuracy: 0.4365\n",
            "Epoch 3/30\n",
            "65/65 [==============================] - 4s 63ms/step - loss: 3.9497 - accuracy: 0.4466 - val_loss: 3.9536 - val_accuracy: 0.4537\n",
            "Epoch 4/30\n",
            "65/65 [==============================] - 4s 64ms/step - loss: 3.4929 - accuracy: 0.4884 - val_loss: 3.6153 - val_accuracy: 0.4848\n",
            "Epoch 5/30\n",
            "65/65 [==============================] - 4s 63ms/step - loss: 3.0786 - accuracy: 0.5319 - val_loss: 3.3664 - val_accuracy: 0.5131\n",
            "Epoch 6/30\n",
            "65/65 [==============================] - 4s 64ms/step - loss: 2.7282 - accuracy: 0.5674 - val_loss: 3.2453 - val_accuracy: 0.5283\n",
            "Epoch 7/30\n",
            "65/65 [==============================] - 4s 63ms/step - loss: 2.3999 - accuracy: 0.6061 - val_loss: 3.0521 - val_accuracy: 0.5470\n",
            "Epoch 8/30\n",
            "65/65 [==============================] - 4s 63ms/step - loss: 2.1390 - accuracy: 0.6359 - val_loss: 2.9596 - val_accuracy: 0.5518\n",
            "Epoch 9/30\n",
            "65/65 [==============================] - 4s 64ms/step - loss: 1.8911 - accuracy: 0.6672 - val_loss: 2.8324 - val_accuracy: 0.5725\n",
            "Epoch 10/30\n",
            "65/65 [==============================] - 4s 63ms/step - loss: 1.6924 - accuracy: 0.6905 - val_loss: 2.8577 - val_accuracy: 0.5773\n",
            "Epoch 11/30\n",
            "65/65 [==============================] - 4s 63ms/step - loss: 1.6997 - accuracy: 0.6929 - val_loss: 2.7069 - val_accuracy: 0.5898\n",
            "Epoch 12/30\n",
            "65/65 [==============================] - 4s 65ms/step - loss: 1.3548 - accuracy: 0.7391 - val_loss: 2.7053 - val_accuracy: 0.6008\n",
            "Epoch 13/30\n",
            "65/65 [==============================] - 4s 63ms/step - loss: 1.2629 - accuracy: 0.7471 - val_loss: 2.6415 - val_accuracy: 0.6043\n",
            "Epoch 14/30\n",
            "65/65 [==============================] - 4s 62ms/step - loss: 1.0946 - accuracy: 0.7749 - val_loss: 2.6223 - val_accuracy: 0.6036\n",
            "Epoch 15/30\n",
            "65/65 [==============================] - 4s 63ms/step - loss: 0.9747 - accuracy: 0.7956 - val_loss: 2.6258 - val_accuracy: 0.6050\n",
            "Epoch 16/30\n",
            "65/65 [==============================] - 4s 63ms/step - loss: 0.8814 - accuracy: 0.8099 - val_loss: 2.5872 - val_accuracy: 0.6229\n",
            "Epoch 17/30\n",
            "65/65 [==============================] - 4s 62ms/step - loss: 0.7817 - accuracy: 0.8296 - val_loss: 2.5723 - val_accuracy: 0.6243\n",
            "Epoch 18/30\n",
            "65/65 [==============================] - 4s 63ms/step - loss: 0.6979 - accuracy: 0.8433 - val_loss: 2.6298 - val_accuracy: 0.6215\n",
            "Epoch 19/30\n",
            "65/65 [==============================] - 4s 61ms/step - loss: 0.6227 - accuracy: 0.8564 - val_loss: 2.5443 - val_accuracy: 0.6243\n",
            "Epoch 20/30\n",
            "65/65 [==============================] - 4s 61ms/step - loss: 0.5683 - accuracy: 0.8680 - val_loss: 2.6043 - val_accuracy: 0.6202\n",
            "Epoch 21/30\n",
            "65/65 [==============================] - 4s 63ms/step - loss: 0.5162 - accuracy: 0.8775 - val_loss: 2.6029 - val_accuracy: 0.6333\n",
            "Epoch 22/30\n",
            "65/65 [==============================] - 4s 62ms/step - loss: 0.5973 - accuracy: 0.8632 - val_loss: 2.5508 - val_accuracy: 0.6354\n",
            "Epoch 23/30\n",
            "65/65 [==============================] - 4s 61ms/step - loss: 0.4523 - accuracy: 0.8909 - val_loss: 2.6096 - val_accuracy: 0.6298\n",
            "Epoch 24/30\n",
            "65/65 [==============================] - 4s 64ms/step - loss: 0.4095 - accuracy: 0.9000 - val_loss: 2.6744 - val_accuracy: 0.6264\n",
            "Epoch 25/30\n",
            "65/65 [==============================] - 4s 62ms/step - loss: 0.4667 - accuracy: 0.8909 - val_loss: 2.6702 - val_accuracy: 0.6209\n",
            "Epoch 26/30\n",
            "65/65 [==============================] - 4s 62ms/step - loss: 0.3745 - accuracy: 0.9049 - val_loss: 2.7122 - val_accuracy: 0.6153\n",
            "Epoch 27/30\n",
            "65/65 [==============================] - 4s 63ms/step - loss: 0.3374 - accuracy: 0.9152 - val_loss: 2.6610 - val_accuracy: 0.6340\n",
            "Epoch 28/30\n",
            "65/65 [==============================] - 4s 63ms/step - loss: 0.3213 - accuracy: 0.9147 - val_loss: 2.6350 - val_accuracy: 0.6367\n",
            "Epoch 29/30\n",
            "65/65 [==============================] - 4s 62ms/step - loss: 0.2989 - accuracy: 0.9191 - val_loss: 2.7030 - val_accuracy: 0.6278\n",
            "Epoch 30/30\n",
            "65/65 [==============================] - 4s 63ms/step - loss: 0.2885 - accuracy: 0.9232 - val_loss: 2.7599 - val_accuracy: 0.6174\n"
          ]
        },
        {
          "output_type": "execute_result",
          "data": {
            "text/plain": [
              "<keras.callbacks.History at 0x78b4657b1990>"
            ]
          },
          "metadata": {},
          "execution_count": 10
        }
      ],
      "source": [
        "epochs = 30\n",
        "\n",
        "transformer.compile(\n",
        "    \"rmsprop\", loss=\"sparse_categorical_crossentropy\", metrics=[\"accuracy\"]\n",
        ")\n",
        "transformer.fit(train_ds, epochs=epochs, validation_data=val_ds)"
      ]
    },
    {
      "cell_type": "code",
      "execution_count": null,
      "metadata": {
        "id": "_9kOS6-9fWCL"
      },
      "outputs": [],
      "source": [
        "target_vocab = target_vectorization.get_vocabulary()\n",
        "target_index_lookup = dict(zip(range(len(target_vocab)), target_vocab))\n",
        "max_decoded_sentence_length = 20\n",
        "\n",
        "\n",
        "def decode_sequence(input_sentence):\n",
        "    tokenized_input_sentence = source_vectorization([input_sentence])\n",
        "    decoded_sentence = \"[start]\"\n",
        "    for i in range(max_decoded_sentence_length):\n",
        "        tokenized_target_sentence = target_vectorization([decoded_sentence])[:, :-1]\n",
        "        predictions = transformer([tokenized_input_sentence, tokenized_target_sentence])\n",
        "\n",
        "        sampled_token_index = np.argmax(predictions[0, i, :])\n",
        "        sampled_token = target_index_lookup[sampled_token_index]\n",
        "        decoded_sentence += \" \" + sampled_token\n",
        "\n",
        "        if sampled_token == \"[end]\":\n",
        "            break\n",
        "    return decoded_sentence\n",
        "\n",
        "\n",
        "predictions = []\n",
        "references = [[]]\n",
        "test_source_texts = [pair[0] for pair in test_pairs]\n",
        "test_target_texts = [pair[1] for pair in test_pairs]\n",
        "\n",
        "for _ in range(len(test_target_texts)):\n",
        "    i = np.random.randint(0,len(test_source_texts)-1)\n",
        "    input_sentence = test_source_texts[i]\n",
        "    refs = test_target_texts[i]\n",
        "    translated = decode_sequence(input_sentence)\n",
        "\n",
        "    translated = translated.replace(\"[start]\",\"\")\n",
        "    translated = translated.replace(\"[end]\",\"\")\n",
        "\n",
        "    refs = refs.replace(\"[start]\",\"\")\n",
        "    refs = refs.replace(\"[end]\",\"\")\n",
        "    refs = [refs]\n",
        "\n",
        "    references.append(refs)\n",
        "    predictions.append(translated)"
      ]
    },
    {
      "cell_type": "code",
      "execution_count": null,
      "metadata": {
        "colab": {
          "base_uri": "https://localhost:8080/"
        },
        "id": "b51LJXIViFYp",
        "outputId": "4a114be5-44a4-4c40-e748-257c3bb37bca"
      },
      "outputs": [
        {
          "output_type": "stream",
          "name": "stdout",
          "text": [
            "443 443\n"
          ]
        }
      ],
      "source": [
        "references.pop(0)\n",
        "print(len(references) , len(predictions))"
      ]
    },
    {
      "cell_type": "code",
      "execution_count": null,
      "metadata": {
        "colab": {
          "base_uri": "https://localhost:8080/"
        },
        "id": "vNRpF-vVksF-",
        "outputId": "3bd0c63d-2640-41a2-8054-23f7b91111c9"
      },
      "outputs": [
        {
          "output_type": "stream",
          "name": "stdout",
          "text": [
            "input:আমরা তোমার মন পড়েছি আর সব এখানেই আছে। \toutput: আমি তর পুরিজ হিনিত্তে আর বেক ইয়োত আছে। \n",
            "input:কুকুরটা তোমার? \toutput: তর ইক্কুনু \n",
            "input:কোথায় চলে গিয়েছিলে? \toutput: হুদু জাগোই । \n",
            "input:যেরকম cc ক্যামেরা । যেটা হার্ড ড্রাইভে শুধু দিনের শেষ অংশের গতিবিধি রেকর্ড করে। \toutput: যেরকম রোমে অয়্যে আর যিয়ান চেয়ে সিয়ান বানা জাহাজ আনোর হুরে হারে বেক্কানি সেজ গুরি লবঙে। \n",
            "input:যতক্ষণ পর্যন্ত না সেই সন্ত্রাসী গ্রেপ্তার না হয় । হ্যা। \toutput: যেদক্কন সং না তে ব্যক্তির ১০০০ না অয় । \n",
            "input:এখন আমার কাছে সবকিছু স্পষ্ট হতে লাগল । আমার যাত্রা শেষের পথে ছিল। \toutput: এখন মর ইদু বেক্কানি স্পষ্ট অবার পিরে পিয়ং হিজু ইন্দি সা বব। \n",
            "input:আমি Mr আর্লের সঙ্গে দেখা করতে এসেছি। \toutput: মুই mr ওয়েন। \n",
            "input:তুমি আর আমি । \toutput: তুই আর মুই । \n",
            "input:অনেক ব্যথা করছে আচ্ছা। \toutput: বজমান পিরে পাত্তে আচ্ছা। \n",
            "input:অনেকগুলো তথ্য সঠিক ছিল। \toutput: ভালাক্কানি হবর ঠিক এল। \n"
          ]
        }
      ],
      "source": [
        "for i in range(10):\n",
        "    input = test_source_texts[i]\n",
        "    output = decode_sequence(input).replace(\"[start]\",\"\")\n",
        "    output = output.replace(\"[end]\",\"\")\n",
        "    print(\"input:\" + input,\"\\toutput:\" + output)"
      ]
    },
    {
      "cell_type": "code",
      "execution_count": null,
      "metadata": {
        "colab": {
          "base_uri": "https://localhost:8080/"
        },
        "id": "neM-r56Trs14",
        "outputId": "5e4b4d6c-08c2-4269-e0a2-cdcfd12b8476"
      },
      "outputs": [
        {
          "output_type": "stream",
          "name": "stdout",
          "text": [
            "input:কোথায় চলে গিয়েছিলে? \toutput: হুদু জাগোই । \n"
          ]
        }
      ],
      "source": [
        "input = \"কোথায় চলে গিয়েছিলে?\"\n",
        "output = decode_sequence(input).replace(\"[start]\",\"\")\n",
        "output = output.replace(\"[end]\",\"\")\n",
        "print(\"input:\" + input,\"\\toutput:\" + output)"
      ]
    },
    {
      "cell_type": "code",
      "execution_count": 12,
      "metadata": {
        "id": "ao84f_3nipXr"
      },
      "outputs": [],
      "source": [
        "transformer.save_weights(\"/content/en_to_bn.h5\")"
      ]
    }
  ],
  "metadata": {
    "accelerator": "GPU",
    "colab": {
      "provenance": [],
      "gpuType": "T4"
    },
    "kernelspec": {
      "display_name": "Python 3",
      "name": "python3"
    },
    "language_info": {
      "name": "python"
    }
  },
  "nbformat": 4,
  "nbformat_minor": 0
}